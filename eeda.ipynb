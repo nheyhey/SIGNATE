{
 "cells": [
  {
   "cell_type": "markdown",
   "metadata": {},
   "source": [
    "# Exploratory Data Analysis with Python"
   ]
  },
  {
   "cell_type": "markdown",
   "metadata": {},
   "source": [
    "Mayu Nihei - Jul 2019"
   ]
  },
  {
   "cell_type": "markdown",
   "metadata": {},
   "source": [
    "## 飯田産業　土地の販売価格の推定"
   ]
  },
  {
   "cell_type": "markdown",
   "metadata": {},
   "source": [
    "土地の販売価格にどのような要素が影響を与えるのかを分析することを目的としたものです。"
   ]
  },
  {
   "cell_type": "markdown",
   "metadata": {},
   "source": [
    "以下の分析を行います。"
   ]
  },
  {
   "cell_type": "markdown",
   "metadata": {},
   "source": [
    "0. 販売価格の分析</n>\n",
    "1. 土地の面積と販売価格</n>\n",
    "2. 建物面積と販売価格</n>\n",
    "3. 幅員と販売価格</n>\n",
    "4. 間口と販売価格</n>"
   ]
  },
  {
   "cell_type": "code",
   "execution_count": 25,
   "metadata": {},
   "outputs": [],
   "source": [
    "#ライブラリの読み込み\n",
    "import pandas as pd\n",
    "import seaborn as sns\n",
    "import matplotlib.pyplot as plt\n",
    "from sklearn.tree import DecisionTreeRegressor"
   ]
  },
  {
   "cell_type": "code",
   "execution_count": null,
   "metadata": {},
   "outputs": [],
   "source": [
    "tr_genba = pd.read_csv(\"train_genba.tsv\",sep = '\\t')\n",
    "tr_goto = pd.read_csv(\"train_goto.tsv\",sep = '\\t')"
   ]
  },
  {
   "cell_type": "code",
   "execution_count": 4,
   "metadata": {},
   "outputs": [
    {
     "data": {
      "text/html": [
       "<div>\n",
       "<style scoped>\n",
       "    .dataframe tbody tr th:only-of-type {\n",
       "        vertical-align: middle;\n",
       "    }\n",
       "\n",
       "    .dataframe tbody tr th {\n",
       "        vertical-align: top;\n",
       "    }\n",
       "\n",
       "    .dataframe thead th {\n",
       "        text-align: right;\n",
       "    }\n",
       "</style>\n",
       "<table border=\"1\" class=\"dataframe\">\n",
       "  <thead>\n",
       "    <tr style=\"text-align: right;\">\n",
       "      <th></th>\n",
       "      <th>pj_no</th>\n",
       "      <th>jukyo</th>\n",
       "      <th>chiseki_js_hb</th>\n",
       "      <th>chiseki_kb_hb</th>\n",
       "      <th>yoto1</th>\n",
       "      <th>yoto2</th>\n",
       "      <th>kempei1</th>\n",
       "      <th>kempei2</th>\n",
       "      <th>yoseki1</th>\n",
       "      <th>yoseki2</th>\n",
       "      <th>...</th>\n",
       "      <th>bas_toho1</th>\n",
       "      <th>eki_kyori1</th>\n",
       "      <th>bastei_nm1</th>\n",
       "      <th>teiho1</th>\n",
       "      <th>rosen_nm2</th>\n",
       "      <th>eki_nm2</th>\n",
       "      <th>bas_toho2</th>\n",
       "      <th>eki_kyori2</th>\n",
       "      <th>bastei_nm2</th>\n",
       "      <th>teiho2</th>\n",
       "    </tr>\n",
       "  </thead>\n",
       "  <tbody>\n",
       "    <tr>\n",
       "      <th>0</th>\n",
       "      <td>0</td>\n",
       "      <td>埼玉県朝霞市泉水</td>\n",
       "      <td>109.26</td>\n",
       "      <td>109.10</td>\n",
       "      <td>工業地域</td>\n",
       "      <td>NaN</td>\n",
       "      <td>60</td>\n",
       "      <td>0.0</td>\n",
       "      <td>200</td>\n",
       "      <td>0.0</td>\n",
       "      <td>...</td>\n",
       "      <td>徒歩</td>\n",
       "      <td>17</td>\n",
       "      <td>NaN</td>\n",
       "      <td>NaN</td>\n",
       "      <td>NaN</td>\n",
       "      <td>NaN</td>\n",
       "      <td>NaN</td>\n",
       "      <td>NaN</td>\n",
       "      <td>NaN</td>\n",
       "      <td>NaN</td>\n",
       "    </tr>\n",
       "    <tr>\n",
       "      <th>1</th>\n",
       "      <td>1</td>\n",
       "      <td>埼玉県川越市大字的場</td>\n",
       "      <td>136.15</td>\n",
       "      <td>136.00</td>\n",
       "      <td>第一種低層住居専用地域</td>\n",
       "      <td>NaN</td>\n",
       "      <td>60</td>\n",
       "      <td>0.0</td>\n",
       "      <td>200</td>\n",
       "      <td>0.0</td>\n",
       "      <td>...</td>\n",
       "      <td>徒歩</td>\n",
       "      <td>13</td>\n",
       "      <td>NaN</td>\n",
       "      <td>NaN</td>\n",
       "      <td>NaN</td>\n",
       "      <td>NaN</td>\n",
       "      <td>NaN</td>\n",
       "      <td>NaN</td>\n",
       "      <td>NaN</td>\n",
       "      <td>NaN</td>\n",
       "    </tr>\n",
       "    <tr>\n",
       "      <th>2</th>\n",
       "      <td>2</td>\n",
       "      <td>埼玉県川口市安行原</td>\n",
       "      <td>86.92</td>\n",
       "      <td>86.52</td>\n",
       "      <td>第一種低層住居専用地域</td>\n",
       "      <td>NaN</td>\n",
       "      <td>50</td>\n",
       "      <td>0.0</td>\n",
       "      <td>100</td>\n",
       "      <td>0.0</td>\n",
       "      <td>...</td>\n",
       "      <td>徒歩</td>\n",
       "      <td>27</td>\n",
       "      <td>NaN</td>\n",
       "      <td>NaN</td>\n",
       "      <td>NaN</td>\n",
       "      <td>NaN</td>\n",
       "      <td>NaN</td>\n",
       "      <td>NaN</td>\n",
       "      <td>NaN</td>\n",
       "      <td>NaN</td>\n",
       "    </tr>\n",
       "    <tr>\n",
       "      <th>3</th>\n",
       "      <td>3</td>\n",
       "      <td>埼玉県草加市松江</td>\n",
       "      <td>164.91</td>\n",
       "      <td>164.07</td>\n",
       "      <td>工業地域</td>\n",
       "      <td>NaN</td>\n",
       "      <td>60</td>\n",
       "      <td>0.0</td>\n",
       "      <td>200</td>\n",
       "      <td>0.0</td>\n",
       "      <td>...</td>\n",
       "      <td>徒歩</td>\n",
       "      <td>18</td>\n",
       "      <td>NaN</td>\n",
       "      <td>NaN</td>\n",
       "      <td>NaN</td>\n",
       "      <td>NaN</td>\n",
       "      <td>NaN</td>\n",
       "      <td>NaN</td>\n",
       "      <td>NaN</td>\n",
       "      <td>NaN</td>\n",
       "    </tr>\n",
       "    <tr>\n",
       "      <th>4</th>\n",
       "      <td>4</td>\n",
       "      <td>埼玉県新座市野火止</td>\n",
       "      <td>403.58</td>\n",
       "      <td>403.58</td>\n",
       "      <td>第一種低層住居専用地域</td>\n",
       "      <td>NaN</td>\n",
       "      <td>50</td>\n",
       "      <td>0.0</td>\n",
       "      <td>80</td>\n",
       "      <td>0.0</td>\n",
       "      <td>...</td>\n",
       "      <td>徒歩</td>\n",
       "      <td>7</td>\n",
       "      <td>NaN</td>\n",
       "      <td>NaN</td>\n",
       "      <td>NaN</td>\n",
       "      <td>NaN</td>\n",
       "      <td>NaN</td>\n",
       "      <td>NaN</td>\n",
       "      <td>NaN</td>\n",
       "      <td>NaN</td>\n",
       "    </tr>\n",
       "  </tbody>\n",
       "</table>\n",
       "<p>5 rows × 140 columns</p>\n",
       "</div>"
      ],
      "text/plain": [
       "   pj_no       jukyo  chiseki_js_hb  chiseki_kb_hb        yoto1 yoto2  \\\n",
       "0      0    埼玉県朝霞市泉水         109.26         109.10         工業地域   NaN   \n",
       "1      1  埼玉県川越市大字的場         136.15         136.00  第一種低層住居専用地域   NaN   \n",
       "2      2   埼玉県川口市安行原          86.92          86.52  第一種低層住居専用地域   NaN   \n",
       "3      3    埼玉県草加市松江         164.91         164.07         工業地域   NaN   \n",
       "4      4   埼玉県新座市野火止         403.58         403.58  第一種低層住居専用地域   NaN   \n",
       "\n",
       "   kempei1  kempei2  yoseki1  yoseki2   ...   bas_toho1 eki_kyori1 bastei_nm1  \\\n",
       "0       60      0.0      200      0.0   ...          徒歩         17        NaN   \n",
       "1       60      0.0      200      0.0   ...          徒歩         13        NaN   \n",
       "2       50      0.0      100      0.0   ...          徒歩         27        NaN   \n",
       "3       60      0.0      200      0.0   ...          徒歩         18        NaN   \n",
       "4       50      0.0       80      0.0   ...          徒歩          7        NaN   \n",
       "\n",
       "  teiho1  rosen_nm2  eki_nm2  bas_toho2  eki_kyori2  bastei_nm2  teiho2  \n",
       "0    NaN        NaN      NaN        NaN         NaN         NaN     NaN  \n",
       "1    NaN        NaN      NaN        NaN         NaN         NaN     NaN  \n",
       "2    NaN        NaN      NaN        NaN         NaN         NaN     NaN  \n",
       "3    NaN        NaN      NaN        NaN         NaN         NaN     NaN  \n",
       "4    NaN        NaN      NaN        NaN         NaN         NaN     NaN  \n",
       "\n",
       "[5 rows x 140 columns]"
      ]
     },
     "execution_count": 4,
     "metadata": {},
     "output_type": "execute_result"
    }
   ],
   "source": [
    "#読み込んだデータのチェック\n",
    "tr_genba.head()"
   ]
  },
  {
   "cell_type": "code",
   "execution_count": 5,
   "metadata": {},
   "outputs": [
    {
     "data": {
      "text/html": [
       "<div>\n",
       "<style scoped>\n",
       "    .dataframe tbody tr th:only-of-type {\n",
       "        vertical-align: middle;\n",
       "    }\n",
       "\n",
       "    .dataframe tbody tr th {\n",
       "        vertical-align: top;\n",
       "    }\n",
       "\n",
       "    .dataframe thead th {\n",
       "        text-align: right;\n",
       "    }\n",
       "</style>\n",
       "<table border=\"1\" class=\"dataframe\">\n",
       "  <thead>\n",
       "    <tr style=\"text-align: right;\">\n",
       "      <th></th>\n",
       "      <th>id</th>\n",
       "      <th>pj_no</th>\n",
       "      <th>keiyaku_pr</th>\n",
       "      <th>tc_mseki</th>\n",
       "      <th>tt_mseki</th>\n",
       "      <th>levelplan</th>\n",
       "      <th>fukuin</th>\n",
       "      <th>road_st</th>\n",
       "      <th>magutchi</th>\n",
       "      <th>setsudo_hi</th>\n",
       "      <th>setsudo_kj</th>\n",
       "      <th>jigata</th>\n",
       "      <th>hiatari</th>\n",
       "      <th>niwasaki</th>\n",
       "      <th>garage</th>\n",
       "      <th>kobetsu1</th>\n",
       "      <th>kobetsu2</th>\n",
       "      <th>kobetsu3</th>\n",
       "      <th>kobetsu4</th>\n",
       "    </tr>\n",
       "  </thead>\n",
       "  <tbody>\n",
       "    <tr>\n",
       "      <th>0</th>\n",
       "      <td>train_0000</td>\n",
       "      <td>0</td>\n",
       "      <td>39800000</td>\n",
       "      <td>109.26</td>\n",
       "      <td>104.43</td>\n",
       "      <td>2F/4LDK</td>\n",
       "      <td>4.0</td>\n",
       "      <td>問題なし</td>\n",
       "      <td>9.9</td>\n",
       "      <td>東</td>\n",
       "      <td>良い</td>\n",
       "      <td>整形地</td>\n",
       "      <td>普通</td>\n",
       "      <td>4.0</td>\n",
       "      <td>1</td>\n",
       "      <td>床暖房付</td>\n",
       "      <td>NaN</td>\n",
       "      <td>NaN</td>\n",
       "      <td>NaN</td>\n",
       "    </tr>\n",
       "    <tr>\n",
       "      <th>1</th>\n",
       "      <td>train_0001</td>\n",
       "      <td>1</td>\n",
       "      <td>22300000</td>\n",
       "      <td>136.11</td>\n",
       "      <td>105.16</td>\n",
       "      <td>2F/4LDK</td>\n",
       "      <td>4.2</td>\n",
       "      <td>問題なし</td>\n",
       "      <td>9.3</td>\n",
       "      <td>北西</td>\n",
       "      <td>普通</td>\n",
       "      <td>不整形地</td>\n",
       "      <td>普通</td>\n",
       "      <td>3.0</td>\n",
       "      <td>1</td>\n",
       "      <td>NaN</td>\n",
       "      <td>NaN</td>\n",
       "      <td>NaN</td>\n",
       "      <td>NaN</td>\n",
       "    </tr>\n",
       "    <tr>\n",
       "      <th>2</th>\n",
       "      <td>train_0002</td>\n",
       "      <td>2</td>\n",
       "      <td>19800000</td>\n",
       "      <td>87.07</td>\n",
       "      <td>85.94</td>\n",
       "      <td>2F/4LDK</td>\n",
       "      <td>4.0</td>\n",
       "      <td>問題なし</td>\n",
       "      <td>11.1</td>\n",
       "      <td>東</td>\n",
       "      <td>普通</td>\n",
       "      <td>整形地</td>\n",
       "      <td>普通</td>\n",
       "      <td>2.8</td>\n",
       "      <td>1</td>\n",
       "      <td>NaN</td>\n",
       "      <td>NaN</td>\n",
       "      <td>NaN</td>\n",
       "      <td>NaN</td>\n",
       "    </tr>\n",
       "    <tr>\n",
       "      <th>3</th>\n",
       "      <td>train_0003</td>\n",
       "      <td>3</td>\n",
       "      <td>33990000</td>\n",
       "      <td>163.75</td>\n",
       "      <td>105.98</td>\n",
       "      <td>2F/4LDK</td>\n",
       "      <td>4.0</td>\n",
       "      <td>問題なし</td>\n",
       "      <td>10.5</td>\n",
       "      <td>南</td>\n",
       "      <td>普通</td>\n",
       "      <td>整形地</td>\n",
       "      <td>良い</td>\n",
       "      <td>4.0</td>\n",
       "      <td>2</td>\n",
       "      <td>NaN</td>\n",
       "      <td>NaN</td>\n",
       "      <td>NaN</td>\n",
       "      <td>NaN</td>\n",
       "    </tr>\n",
       "    <tr>\n",
       "      <th>4</th>\n",
       "      <td>train_0004</td>\n",
       "      <td>4</td>\n",
       "      <td>30800000</td>\n",
       "      <td>111.51</td>\n",
       "      <td>89.01</td>\n",
       "      <td>2F/4LDK</td>\n",
       "      <td>4.0</td>\n",
       "      <td>問題なし</td>\n",
       "      <td>13.5</td>\n",
       "      <td>北</td>\n",
       "      <td>良い</td>\n",
       "      <td>整形地</td>\n",
       "      <td>普通</td>\n",
       "      <td>2.0</td>\n",
       "      <td>2</td>\n",
       "      <td>床暖房付</td>\n",
       "      <td>NaN</td>\n",
       "      <td>NaN</td>\n",
       "      <td>NaN</td>\n",
       "    </tr>\n",
       "  </tbody>\n",
       "</table>\n",
       "</div>"
      ],
      "text/plain": [
       "           id  pj_no  keiyaku_pr  tc_mseki  tt_mseki levelplan  fukuin  \\\n",
       "0  train_0000      0    39800000    109.26    104.43   2F/4LDK     4.0   \n",
       "1  train_0001      1    22300000    136.11    105.16   2F/4LDK     4.2   \n",
       "2  train_0002      2    19800000     87.07     85.94   2F/4LDK     4.0   \n",
       "3  train_0003      3    33990000    163.75    105.98   2F/4LDK     4.0   \n",
       "4  train_0004      4    30800000    111.51     89.01   2F/4LDK     4.0   \n",
       "\n",
       "  road_st  magutchi setsudo_hi setsudo_kj jigata hiatari  niwasaki  garage  \\\n",
       "0    問題なし       9.9          東         良い    整形地      普通       4.0       1   \n",
       "1    問題なし       9.3         北西         普通   不整形地      普通       3.0       1   \n",
       "2    問題なし      11.1          東         普通    整形地      普通       2.8       1   \n",
       "3    問題なし      10.5          南         普通    整形地      良い       4.0       2   \n",
       "4    問題なし      13.5          北         良い    整形地      普通       2.0       2   \n",
       "\n",
       "  kobetsu1 kobetsu2 kobetsu3 kobetsu4  \n",
       "0     床暖房付      NaN      NaN      NaN  \n",
       "1      NaN      NaN      NaN      NaN  \n",
       "2      NaN      NaN      NaN      NaN  \n",
       "3      NaN      NaN      NaN      NaN  \n",
       "4     床暖房付      NaN      NaN      NaN  "
      ]
     },
     "execution_count": 5,
     "metadata": {},
     "output_type": "execute_result"
    }
   ],
   "source": [
    "#読み込んだデータのチェック\n",
    "tr_goto.head()"
   ]
  },
  {
   "cell_type": "code",
   "execution_count": 8,
   "metadata": {},
   "outputs": [
    {
     "name": "stdout",
     "output_type": "stream",
     "text": [
      "<class 'pandas.core.frame.DataFrame'>\n",
      "RangeIndex: 2781 entries, 0 to 2780\n",
      "Columns: 140 entries, pj_no to teiho2\n",
      "dtypes: float64(37), int64(11), object(92)\n",
      "memory usage: 3.0+ MB\n"
     ]
    }
   ],
   "source": [
    "#データのカラムのチェック\n",
    "tr_genba.info()"
   ]
  },
  {
   "cell_type": "markdown",
   "metadata": {},
   "source": [
    "2781件のデータがあり、140の変数があることがわかります。"
   ]
  },
  {
   "cell_type": "code",
   "execution_count": 9,
   "metadata": {},
   "outputs": [
    {
     "name": "stdout",
     "output_type": "stream",
     "text": [
      "<class 'pandas.core.frame.DataFrame'>\n",
      "RangeIndex: 6461 entries, 0 to 6460\n",
      "Data columns (total 19 columns):\n",
      "id            6461 non-null object\n",
      "pj_no         6461 non-null int64\n",
      "keiyaku_pr    6461 non-null int64\n",
      "tc_mseki      6461 non-null float64\n",
      "tt_mseki      6461 non-null float64\n",
      "levelplan     6106 non-null object\n",
      "fukuin        6367 non-null float64\n",
      "road_st       6367 non-null object\n",
      "magutchi      6367 non-null float64\n",
      "setsudo_hi    6366 non-null object\n",
      "setsudo_kj    6365 non-null object\n",
      "jigata        6366 non-null object\n",
      "hiatari       6366 non-null object\n",
      "niwasaki      6461 non-null float64\n",
      "garage        6461 non-null int64\n",
      "kobetsu1      2647 non-null object\n",
      "kobetsu2      433 non-null object\n",
      "kobetsu3      266 non-null object\n",
      "kobetsu4      49 non-null object\n",
      "dtypes: float64(5), int64(3), object(11)\n",
      "memory usage: 959.1+ KB\n"
     ]
    }
   ],
   "source": [
    "tr_goto.info()"
   ]
  },
  {
   "cell_type": "markdown",
   "metadata": {},
   "source": [
    "6461件のデータがあり、19の変数があることがわかります。"
   ]
  },
  {
   "cell_type": "markdown",
   "metadata": {},
   "source": [
    "keiyaku_prが販売価格です。"
   ]
  },
  {
   "cell_type": "markdown",
   "metadata": {},
   "source": [
    "なお、pj_no(プロジェクト番号)が現場データと号棟データの紐付けキーとなります。"
   ]
  },
  {
   "cell_type": "markdown",
   "metadata": {},
   "source": [
    "### 0. 販売価格の分析"
   ]
  },
  {
   "cell_type": "code",
   "execution_count": 15,
   "metadata": {},
   "outputs": [
    {
     "data": {
      "text/plain": [
       "count    6.461000e+03\n",
       "mean     2.782169e+07\n",
       "std      6.853475e+06\n",
       "min      2.800000e+06\n",
       "25%      2.330000e+07\n",
       "50%      2.700000e+07\n",
       "75%      3.180000e+07\n",
       "max      6.280000e+07\n",
       "Name: keiyaku_pr, dtype: float64"
      ]
     },
     "execution_count": 15,
     "metadata": {},
     "output_type": "execute_result"
    }
   ],
   "source": [
    "#販売価格の統計量\n",
    "tr_goto['keiyaku_pr'].describe()"
   ]
  },
  {
   "cell_type": "code",
   "execution_count": 18,
   "metadata": {},
   "outputs": [
    {
     "name": "stderr",
     "output_type": "stream",
     "text": [
      "/anaconda3/lib/python3.7/site-packages/scipy/stats/stats.py:1713: FutureWarning: Using a non-tuple sequence for multidimensional indexing is deprecated; use `arr[tuple(seq)]` instead of `arr[seq]`. In the future this will be interpreted as an array index, `arr[np.array(seq)]`, which will result either in an error or a different result.\n",
      "  return np.add.reduce(sorted[indexer] * weights, axis=axis) / sumval\n"
     ]
    },
    {
     "data": {
      "text/plain": [
       "Text(0, 0.5, 'Frequency')"
      ]
     },
     "execution_count": 18,
     "metadata": {},
     "output_type": "execute_result"
    },
    {
     "data": {
      "image/png": "[encoded data removed]",
      "text/plain": [
       "<Figure size 432x288 with 1 Axes>"
      ]
     },
     "metadata": {
      "needs_background": "light"
     },
     "output_type": "display_data"
    }
   ],
   "source": [
    "#販売価格のヒストグラム\n",
    "sns.distplot(tr_goto['keiyaku_pr'],bins=100)\n",
    "plt.ylabel('Frequency')"
   ]
  },
  {
   "cell_type": "code",
   "execution_count": 19,
   "metadata": {},
   "outputs": [
    {
     "name": "stdout",
     "output_type": "stream",
     "text": [
      "Skewness: 0.666622\n",
      "Kurtosis: 1.408705\n"
     ]
    }
   ],
   "source": [
    "#販売価格のヒストグラムの尖度と歪度\n",
    "print(\"Skewness: %f\" % tr_goto['keiyaku_pr'].skew())\n",
    "print(\"Kurtosis: %f\" % tr_goto['keiyaku_pr'].kurt())"
   ]
  },
  {
   "cell_type": "markdown",
   "metadata": {},
   "source": [
    "販売価格のヒストグラムは正規分布に近い形をしていることがわかります。"
   ]
  },
  {
   "cell_type": "markdown",
   "metadata": {},
   "source": [
    "### 1. 土地の面積と販売価格"
   ]
  },
  {
   "cell_type": "code",
   "execution_count": 12,
   "metadata": {},
   "outputs": [
    {
     "data": {
      "text/plain": [
       "<matplotlib.axes._subplots.AxesSubplot at 0x1a226e3d30>"
      ]
     },
     "execution_count": 12,
     "metadata": {},
     "output_type": "execute_result"
    },
    {
     "data": {
      "image/png": "[encoded data removed]",
      "text/plain": [
       "<Figure size 432x288 with 1 Axes>"
      ]
     },
     "metadata": {
      "needs_background": "light"
     },
     "output_type": "display_data"
    }
   ],
   "source": [
    "sns.lineplot(x = 'tc_mseki',y = 'keiyaku_pr', data = tr_goto)"
   ]
  },
  {
   "cell_type": "markdown",
   "metadata": {},
   "source": [
    "綺麗な相関関係は見られませんでした。"
   ]
  },
  {
   "cell_type": "markdown",
   "metadata": {},
   "source": [
    "### 2. 建物面積と販売価格"
   ]
  },
  {
   "cell_type": "code",
   "execution_count": 13,
   "metadata": {},
   "outputs": [
    {
     "data": {
      "text/plain": [
       "<matplotlib.axes._subplots.AxesSubplot at 0x1a227c1c18>"
      ]
     },
     "execution_count": 13,
     "metadata": {},
     "output_type": "execute_result"
    },
    {
     "data": {
      "image/png": "[encoded data removed]",
      "text/plain": [
       "<Figure size 432x288 with 1 Axes>"
      ]
     },
     "metadata": {
      "needs_background": "light"
     },
     "output_type": "display_data"
    }
   ],
   "source": [
    "sns.lineplot(x = 'tt_mseki',y = 'keiyaku_pr', data = tr_goto)"
   ]
  },
  {
   "cell_type": "markdown",
   "metadata": {},
   "source": [
    "こちらも前半はいいですが、後半は相関はなさそうです。"
   ]
  },
  {
   "cell_type": "markdown",
   "metadata": {},
   "source": [
    "### 3. 幅員と販売価格"
   ]
  },
  {
   "cell_type": "code",
   "execution_count": 21,
   "metadata": {},
   "outputs": [
    {
     "data": {
      "text/plain": [
       "<matplotlib.axes._subplots.AxesSubplot at 0x11f344ac8>"
      ]
     },
     "execution_count": 21,
     "metadata": {},
     "output_type": "execute_result"
    },
    {
     "data": {
      "image/png": "[encoded data removed]",
      "text/plain": [
       "<Figure size 432x288 with 1 Axes>"
      ]
     },
     "metadata": {
      "needs_background": "light"
     },
     "output_type": "display_data"
    }
   ],
   "source": [
    "sns.lineplot(x = 'fukuin',y = 'keiyaku_pr', data = tr_goto)"
   ]
  },
  {
   "cell_type": "markdown",
   "metadata": {},
   "source": [
    "幅員と販売価格も相関はなさそうです。"
   ]
  },
  {
   "cell_type": "markdown",
   "metadata": {},
   "source": [
    "### 4. 間口と販売価格"
   ]
  },
  {
   "cell_type": "code",
   "execution_count": 22,
   "metadata": {},
   "outputs": [
    {
     "data": {
      "text/plain": [
       "<matplotlib.axes._subplots.AxesSubplot at 0x1a22829630>"
      ]
     },
     "execution_count": 22,
     "metadata": {},
     "output_type": "execute_result"
    },
    {
     "data": {
      "image/png": "[encoded data removed]",
      "text/plain": [
       "<Figure size 432x288 with 1 Axes>"
      ]
     },
     "metadata": {
      "needs_background": "light"
     },
     "output_type": "display_data"
    }
   ],
   "source": [
    "sns.lineplot(x = 'magutchi',y = 'keiyaku_pr', data = tr_goto)"
   ]
  },
  {
   "cell_type": "markdown",
   "metadata": {},
   "source": [
    "間口と販売価格も相関はなさそうです。。"
   ]
  }
 ],
 "metadata": {
  "kernelspec": {
   "display_name": "Python 3",
   "language": "python",
   "name": "python3"
  },
  "language_info": {
   "codemirror_mode": {
    "name": "ipython",
    "version": 3
   },
   "file_extension": ".py",
   "mimetype": "text/x-python",
   "name": "python",
   "nbconvert_exporter": "python",
   "pygments_lexer": "ipython3",
   "version": "3.7.1"
  }
 },
 "nbformat": 4,
 "nbformat_minor": 2
}
